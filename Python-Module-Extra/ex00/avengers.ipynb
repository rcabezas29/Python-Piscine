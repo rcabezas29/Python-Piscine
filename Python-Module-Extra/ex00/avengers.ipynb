{
 "cells": [
  {
   "cell_type": "code",
   "execution_count": 26,
   "metadata": {},
   "outputs": [
    {
     "name": "stdout",
     "output_type": "stream",
     "text": [
      "Defaulting to user installation because normal site-packages is not writeable\n",
      "Requirement already satisfied: pysentimiento in /Users/rcabezas/Library/Python/3.9/lib/python/site-packages (0.6.1)\n",
      "Requirement already satisfied: pandas in /Users/rcabezas/Library/Python/3.9/lib/python/site-packages (1.5.3)\n",
      "Requirement already satisfied: numba in /Users/rcabezas/Library/Python/3.9/lib/python/site-packages (0.56.4)\n",
      "Requirement already satisfied: datasets>=1.13.3 in /Users/rcabezas/Library/Python/3.9/lib/python/site-packages (from pysentimiento) (2.10.1)\n",
      "Requirement already satisfied: spacy<4.0.0,>=3.5.0 in /Users/rcabezas/Library/Python/3.9/lib/python/site-packages (from pysentimiento) (3.5.1)\n",
      "Requirement already satisfied: transformers>=4.13.0 in /Users/rcabezas/Library/Python/3.9/lib/python/site-packages (from pysentimiento) (4.27.1)\n",
      "Requirement already satisfied: emoji<2.0.0,>=1.6.1 in /Users/rcabezas/Library/Python/3.9/lib/python/site-packages (from pysentimiento) (1.7.0)\n",
      "Requirement already satisfied: torch<2.0.0,>=1.13.1 in /Users/rcabezas/Library/Python/3.9/lib/python/site-packages (from pysentimiento) (1.13.1)\n",
      "Requirement already satisfied: python-dateutil>=2.8.1 in /Users/rcabezas/Library/Python/3.9/lib/python/site-packages (from pandas) (2.8.2)\n",
      "Requirement already satisfied: numpy>=1.20.3 in /Users/rcabezas/Library/Python/3.9/lib/python/site-packages (from pandas) (1.23.5)\n",
      "Requirement already satisfied: pytz>=2020.1 in /Users/rcabezas/Library/Python/3.9/lib/python/site-packages (from pandas) (2022.7.1)\n",
      "Requirement already satisfied: setuptools in /Library/Frameworks/Python.framework/Versions/3.9/lib/python3.9/site-packages (from numba) (58.1.0)\n",
      "Requirement already satisfied: llvmlite<0.40,>=0.39.0dev0 in /Users/rcabezas/Library/Python/3.9/lib/python/site-packages (from numba) (0.39.1)\n",
      "Requirement already satisfied: huggingface-hub<1.0.0,>=0.2.0 in /Users/rcabezas/Library/Python/3.9/lib/python/site-packages (from datasets>=1.13.3->pysentimiento) (0.13.2)\n",
      "Requirement already satisfied: fsspec[http]>=2021.11.1 in /Users/rcabezas/Library/Python/3.9/lib/python/site-packages (from datasets>=1.13.3->pysentimiento) (2023.3.0)\n",
      "Requirement already satisfied: tqdm>=4.62.1 in /Users/rcabezas/Library/Python/3.9/lib/python/site-packages (from datasets>=1.13.3->pysentimiento) (4.65.0)\n",
      "Requirement already satisfied: packaging in /Users/rcabezas/Library/Python/3.9/lib/python/site-packages (from datasets>=1.13.3->pysentimiento) (23.0)\n",
      "Requirement already satisfied: xxhash in /Users/rcabezas/Library/Python/3.9/lib/python/site-packages (from datasets>=1.13.3->pysentimiento) (3.2.0)\n",
      "Requirement already satisfied: requests>=2.19.0 in /Users/rcabezas/Library/Python/3.9/lib/python/site-packages (from datasets>=1.13.3->pysentimiento) (2.25.1)\n",
      "Requirement already satisfied: dill<0.3.7,>=0.3.0 in /Users/rcabezas/Library/Python/3.9/lib/python/site-packages (from datasets>=1.13.3->pysentimiento) (0.3.6)\n",
      "Requirement already satisfied: pyarrow>=6.0.0 in /Users/rcabezas/Library/Python/3.9/lib/python/site-packages (from datasets>=1.13.3->pysentimiento) (11.0.0)\n",
      "Requirement already satisfied: multiprocess in /Users/rcabezas/Library/Python/3.9/lib/python/site-packages (from datasets>=1.13.3->pysentimiento) (0.70.14)\n",
      "Requirement already satisfied: aiohttp in /Users/rcabezas/Library/Python/3.9/lib/python/site-packages (from datasets>=1.13.3->pysentimiento) (3.8.4)\n",
      "Requirement already satisfied: responses<0.19 in /Users/rcabezas/Library/Python/3.9/lib/python/site-packages (from datasets>=1.13.3->pysentimiento) (0.18.0)\n",
      "Requirement already satisfied: pyyaml>=5.1 in /Users/rcabezas/Library/Python/3.9/lib/python/site-packages (from datasets>=1.13.3->pysentimiento) (5.4)\n",
      "Requirement already satisfied: six>=1.5 in /Users/rcabezas/Library/Python/3.9/lib/python/site-packages (from python-dateutil>=2.8.1->pandas) (1.16.0)\n",
      "Requirement already satisfied: srsly<3.0.0,>=2.4.3 in /Users/rcabezas/Library/Python/3.9/lib/python/site-packages (from spacy<4.0.0,>=3.5.0->pysentimiento) (2.4.6)\n",
      "Requirement already satisfied: murmurhash<1.1.0,>=0.28.0 in /Users/rcabezas/Library/Python/3.9/lib/python/site-packages (from spacy<4.0.0,>=3.5.0->pysentimiento) (1.0.9)\n",
      "Requirement already satisfied: langcodes<4.0.0,>=3.2.0 in /Users/rcabezas/Library/Python/3.9/lib/python/site-packages (from spacy<4.0.0,>=3.5.0->pysentimiento) (3.3.0)\n",
      "Requirement already satisfied: wasabi<1.2.0,>=0.9.1 in /Users/rcabezas/Library/Python/3.9/lib/python/site-packages (from spacy<4.0.0,>=3.5.0->pysentimiento) (1.1.1)\n",
      "Requirement already satisfied: pydantic!=1.8,!=1.8.1,<1.11.0,>=1.7.4 in /Users/rcabezas/Library/Python/3.9/lib/python/site-packages (from spacy<4.0.0,>=3.5.0->pysentimiento) (1.10.6)\n",
      "Requirement already satisfied: pathy>=0.10.0 in /Users/rcabezas/Library/Python/3.9/lib/python/site-packages (from spacy<4.0.0,>=3.5.0->pysentimiento) (0.10.1)\n",
      "Requirement already satisfied: preshed<3.1.0,>=3.0.2 in /Users/rcabezas/Library/Python/3.9/lib/python/site-packages (from spacy<4.0.0,>=3.5.0->pysentimiento) (3.0.8)\n",
      "Requirement already satisfied: spacy-loggers<2.0.0,>=1.0.0 in /Users/rcabezas/Library/Python/3.9/lib/python/site-packages (from spacy<4.0.0,>=3.5.0->pysentimiento) (1.0.4)\n",
      "Requirement already satisfied: jinja2 in /Users/rcabezas/Library/Python/3.9/lib/python/site-packages (from spacy<4.0.0,>=3.5.0->pysentimiento) (3.1.2)\n",
      "Requirement already satisfied: thinc<8.2.0,>=8.1.8 in /Users/rcabezas/Library/Python/3.9/lib/python/site-packages (from spacy<4.0.0,>=3.5.0->pysentimiento) (8.1.9)\n",
      "Requirement already satisfied: typer<0.8.0,>=0.3.0 in /Users/rcabezas/Library/Python/3.9/lib/python/site-packages (from spacy<4.0.0,>=3.5.0->pysentimiento) (0.7.0)\n",
      "Requirement already satisfied: cymem<2.1.0,>=2.0.2 in /Users/rcabezas/Library/Python/3.9/lib/python/site-packages (from spacy<4.0.0,>=3.5.0->pysentimiento) (2.0.7)\n",
      "Requirement already satisfied: smart-open<7.0.0,>=5.2.1 in /Users/rcabezas/Library/Python/3.9/lib/python/site-packages (from spacy<4.0.0,>=3.5.0->pysentimiento) (6.3.0)\n",
      "Requirement already satisfied: spacy-legacy<3.1.0,>=3.0.11 in /Users/rcabezas/Library/Python/3.9/lib/python/site-packages (from spacy<4.0.0,>=3.5.0->pysentimiento) (3.0.12)\n",
      "Requirement already satisfied: catalogue<2.1.0,>=2.0.6 in /Users/rcabezas/Library/Python/3.9/lib/python/site-packages (from spacy<4.0.0,>=3.5.0->pysentimiento) (2.0.8)\n",
      "Requirement already satisfied: typing-extensions in /Users/rcabezas/Library/Python/3.9/lib/python/site-packages (from torch<2.0.0,>=1.13.1->pysentimiento) (4.5.0)\n",
      "Requirement already satisfied: tokenizers!=0.11.3,<0.14,>=0.11.1 in /Users/rcabezas/Library/Python/3.9/lib/python/site-packages (from transformers>=4.13.0->pysentimiento) (0.13.2)\n",
      "Requirement already satisfied: filelock in /Users/rcabezas/Library/Python/3.9/lib/python/site-packages (from transformers>=4.13.0->pysentimiento) (3.10.0)\n",
      "Requirement already satisfied: regex!=2019.12.17 in /Users/rcabezas/Library/Python/3.9/lib/python/site-packages (from transformers>=4.13.0->pysentimiento) (2022.10.31)\n",
      "Requirement already satisfied: charset-normalizer<4.0,>=2.0 in /Users/rcabezas/Library/Python/3.9/lib/python/site-packages (from aiohttp->datasets>=1.13.3->pysentimiento) (3.0.1)\n",
      "Requirement already satisfied: attrs>=17.3.0 in /Users/rcabezas/Library/Python/3.9/lib/python/site-packages (from aiohttp->datasets>=1.13.3->pysentimiento) (22.2.0)\n",
      "Requirement already satisfied: frozenlist>=1.1.1 in /Users/rcabezas/Library/Python/3.9/lib/python/site-packages (from aiohttp->datasets>=1.13.3->pysentimiento) (1.3.3)\n",
      "Requirement already satisfied: aiosignal>=1.1.2 in /Users/rcabezas/Library/Python/3.9/lib/python/site-packages (from aiohttp->datasets>=1.13.3->pysentimiento) (1.3.1)\n",
      "Requirement already satisfied: async-timeout<5.0,>=4.0.0a3 in /Users/rcabezas/Library/Python/3.9/lib/python/site-packages (from aiohttp->datasets>=1.13.3->pysentimiento) (4.0.2)\n",
      "Requirement already satisfied: multidict<7.0,>=4.5 in /Users/rcabezas/Library/Python/3.9/lib/python/site-packages (from aiohttp->datasets>=1.13.3->pysentimiento) (6.0.4)\n",
      "Requirement already satisfied: yarl<2.0,>=1.0 in /Users/rcabezas/Library/Python/3.9/lib/python/site-packages (from aiohttp->datasets>=1.13.3->pysentimiento) (1.8.2)\n",
      "Requirement already satisfied: urllib3<1.27,>=1.21.1 in /Users/rcabezas/Library/Python/3.9/lib/python/site-packages (from requests>=2.19.0->datasets>=1.13.3->pysentimiento) (1.26.14)\n",
      "Requirement already satisfied: certifi>=2017.4.17 in /Users/rcabezas/Library/Python/3.9/lib/python/site-packages (from requests>=2.19.0->datasets>=1.13.3->pysentimiento) (2022.12.7)\n",
      "Requirement already satisfied: chardet<5,>=3.0.2 in /Users/rcabezas/Library/Python/3.9/lib/python/site-packages (from requests>=2.19.0->datasets>=1.13.3->pysentimiento) (4.0.0)\n",
      "Requirement already satisfied: idna<3,>=2.5 in /Users/rcabezas/Library/Python/3.9/lib/python/site-packages (from requests>=2.19.0->datasets>=1.13.3->pysentimiento) (2.10)\n",
      "Requirement already satisfied: confection<1.0.0,>=0.0.1 in /Users/rcabezas/Library/Python/3.9/lib/python/site-packages (from thinc<8.2.0,>=8.1.8->spacy<4.0.0,>=3.5.0->pysentimiento) (0.0.4)\n",
      "Requirement already satisfied: blis<0.8.0,>=0.7.8 in /Users/rcabezas/Library/Python/3.9/lib/python/site-packages (from thinc<8.2.0,>=8.1.8->spacy<4.0.0,>=3.5.0->pysentimiento) (0.7.9)\n",
      "Requirement already satisfied: click<9.0.0,>=7.1.1 in /Users/rcabezas/Library/Python/3.9/lib/python/site-packages (from typer<0.8.0,>=0.3.0->spacy<4.0.0,>=3.5.0->pysentimiento) (8.1.3)\n",
      "Requirement already satisfied: MarkupSafe>=2.0 in /Users/rcabezas/Library/Python/3.9/lib/python/site-packages (from jinja2->spacy<4.0.0,>=3.5.0->pysentimiento) (2.1.2)\n"
     ]
    }
   ],
   "source": [
    "! pip3 install pysentimiento pandas numba"
   ]
  },
  {
   "cell_type": "code",
   "execution_count": 34,
   "metadata": {},
   "outputs": [],
   "source": [
    "import pandas as pd\n",
    "from pysentimiento import create_analyzer\n",
    "import matplotlib.pyplot as plt"
   ]
  },
  {
   "cell_type": "code",
   "execution_count": 35,
   "metadata": {},
   "outputs": [],
   "source": [
    "data = pd.read_csv('tweets.csv', encoding='cp1252')\n",
    "\n",
    "analyzer = create_analyzer(task=\"sentiment\", lang=\"en\")"
   ]
  },
  {
   "cell_type": "code",
   "execution_count": 36,
   "metadata": {},
   "outputs": [],
   "source": [
    "def evaluate_comments():\n",
    "    resuslts = {\n",
    "        'NEU': 0,\n",
    "        'POS': 0,\n",
    "        'NEG': 0,\n",
    "    }\n",
    "    for comment in data['text']:\n",
    "        analysis = analyzer.predict(comment)\n",
    "        resuslts['NEG'] += analysis.probas['NEG']\n",
    "        resuslts['POS'] += analysis.probas['POS']\n",
    "        resuslts['NEU'] += analysis.probas['NEU']\n",
    "    resuslts['NEG'] /= len(data['text'])\n",
    "    resuslts['POS'] /= len(data['text'])\n",
    "    resuslts['NEU'] /= len(data['text'])\n",
    "    return resuslts"
   ]
  },
  {
   "cell_type": "code",
   "execution_count": 37,
   "metadata": {},
   "outputs": [
    {
     "data": {
      "text/plain": [
       "([<matplotlib.patches.Wedge at 0x7fc53c308f70>,\n",
       "  <matplotlib.patches.Wedge at 0x7fc53ef46280>,\n",
       "  <matplotlib.patches.Wedge at 0x7fc53ef46700>],\n",
       " [Text(1.0957195042273582, 0.09694724367279547, 'Negative'),\n",
       "  Text(-0.33797466275282023, 1.0467918261703792, 'Positive'),\n",
       "  Text(0.24440166714491685, -1.0725053963019417, 'Neutral')])"
      ]
     },
     "execution_count": 37,
     "metadata": {},
     "output_type": "execute_result"
    },
    {
     "data": {
      "image/png": "[encoded data removed]",
      "text/plain": [
       "<Figure size 640x480 with 1 Axes>"
      ]
     },
     "metadata": {},
     "output_type": "display_data"
    }
   ],
   "source": [
    "resuslts = evaluate_comments()\n",
    "labels = 'Negative', 'Positive', 'Neutral'\n",
    "sizes = [resuslts['NEG'] * 100, resuslts['POS'] * 100, resuslts['NEU'] * 100]\n",
    "\n",
    "fig, ax = plt.subplots()\n",
    "ax.pie(sizes, labels=labels)"
   ]
  }
 ],
 "metadata": {
  "kernelspec": {
   "display_name": "Python 3.9.12 64-bit",
   "language": "python",
   "name": "python3"
  },
  "language_info": {
   "codemirror_mode": {
    "name": "ipython",
    "version": 3
   },
   "file_extension": ".py",
   "mimetype": "text/x-python",
   "name": "python",
   "nbconvert_exporter": "python",
   "pygments_lexer": "ipython3",
   "version": "3.9.12"
  },
  "orig_nbformat": 4,
  "vscode": {
   "interpreter": {
    "hash": "aee8b7b246df8f9039afb4144a1f6fd8d2ca17a180786b69acc140d282b71a49"
   }
  }
 },
 "nbformat": 4,
 "nbformat_minor": 2
}
